{
 "cells": [
  {
   "cell_type": "markdown",
   "metadata": {
    "id": "JAPoU8Sm5E6e"
   },
   "source": [
    "# Prompt Design in Vertex AI: Challenge Lab"
   ]
  },
  {
   "cell_type": "markdown",
   "metadata": {
    "id": "No17Cw5hgx12"
   },
   "source": [
    "## Install the Google Gen AI SDK\n"
   ]
  },
  {
   "cell_type": "code",
   "execution_count": 1,
   "metadata": {
    "id": "tFy3H3aPgx12"
   },
   "outputs": [
    {
     "name": "stdout",
     "output_type": "stream",
     "text": [
      "Note: you may need to restart the kernel to use updated packages.\n"
     ]
    }
   ],
   "source": [
    "%pip install --upgrade --quiet google-genai"
   ]
  },
  {
   "cell_type": "code",
   "execution_count": 2,
   "metadata": {
    "id": "Nqwi-5ufWp_B"
   },
   "outputs": [],
   "source": [
    "import os\n",
    "from google import genai\n",
    "\n",
    "PROJECT_ID = \"qwiklabs-gcp-00-c83baca456d5\"\n",
    "LOCATION = os.environ.get(\"GOOGLE_CLOUD_REGION\", \"global\")"
   ]
  },
  {
   "cell_type": "code",
   "execution_count": 3,
   "metadata": {
    "id": "T-tiytzQE0uM"
   },
   "outputs": [],
   "source": [
    "client = genai.Client(vertexai=True, project=PROJECT_ID, location=LOCATION)"
   ]
  },
  {
   "cell_type": "markdown",
   "metadata": {},
   "source": [
    "### TODO: Put your Vertex AI Studio 'Image Analysis' code here\n",
    "\n",
    "**Important: Update Your Client Authentication**\n",
    "\n",
    "When you generate code from the Vertex AI Studio UI, it will use an **API Key** for authentication by default. That code block will look like this:\n",
    "\n",
    "```python\n",
    "# THIS IS THE DEFAULT CODE FROM THE UI\n",
    "client = genai.Client(\n",
    "    vertexai=True,\n",
    "    api_key=os.environ.get(\"GOOGLE_CLOUD_API_KEY\"),\n",
    ")\n",
    "```\n",
    "\n",
    "This lab environment does not use API keys. Instead, you must use the `PROJECT_ID` and `LOCATION` variables that were already defined in cell above.\n",
    "\n",
    "After you paste your code into the cell below, **find and replace** the `client` definition block with this one:\n",
    "\n",
    "```python\n",
    "# USE THIS CODE INSTEAD\n",
    "client = genai.Client(vertexai=True, project=PROJECT_ID, location=LOCATION)\n",
    "```"
   ]
  },
  {
   "cell_type": "code",
   "execution_count": 5,
   "metadata": {
    "tags": []
   },
   "outputs": [
    {
     "name": "stdout",
     "output_type": "stream",
     "text": [
      "Here are some catchy taglines for Cymbal Direct's new outdoor gear line, all including the word \"nature\":\n",
      "\n",
      "1.  **Unleash Your Wild, Embrace Nature.**\n",
      "2.  **Discover Your Story, Outdoors in Nature.**\n",
      "3.  **Adventure Awaits: Your Gear for Nature.**\n",
      "4.  **Disconnect to Reconnect: Your Nature Awaits.**\n",
      "5.  **Explore Limitless: Find Your Nature.**\n",
      "6.  **Go Further, With Nature as Your Guide.**\n",
      "7.  **Beyond the Screen, Into Nature's Scene.**\n",
      "8.  **Nature Calls. We've Got Your Gear.**\n",
      "9.  **Grow Wild. Grow with Nature.**\n",
      "10. **Forge Your Path. Embrace Nature.**\n"
     ]
    }
   ],
   "source": [
    "# TODO: Put your Vertex AI Studio 'Tagline Generator' code here.\n",
    "#\n",
    "# After you paste the code, be sure to find the `client = genai.Client(...)`\n",
    "# block and replace it with the project/location version as instructed above.\n",
    "#\n",
    "# --- PASTE YOUR CODE BELOW ---\n",
    "\n",
    "from google import genai\n",
    "from google.genai import types\n",
    "import base64\n",
    "import os\n",
    "\n",
    "def generate():\n",
    "  client = genai.Client(vertexai=True, project=\"qwiklabs-gcp-00-c83baca456d5\", location=\"us-west1\")\n",
    "\n",
    "  msg1_text1 = types.Part.from_text(text=\"\"\"Cymbal Direct is partnering with an outdoor gear retailer. They're launching a new line of products designed to encourage young people to explore the outdoors. Help them create catchy taglines for this product line.\"\"\")\n",
    "  si_text1 = \"\"\"Cymbal Direct is partnering with an outdoor gear retailer. They're launching a new line of products designed to encourage young people to explore the outdoors. Help them create catchy taglines for this product line. Each tagline must include the word 'nature'\"\"\"\n",
    "\n",
    "  model = \"gemini-2.5-flash\"\n",
    "  contents = [\n",
    "    types.Content(\n",
    "      role=\"user\",\n",
    "      parts=[\n",
    "        msg1_text1\n",
    "      ]\n",
    "    ),\n",
    "  ]\n",
    "\n",
    "  generate_content_config = types.GenerateContentConfig(\n",
    "    temperature = 1,\n",
    "    top_p = 1,\n",
    "    max_output_tokens = 65535,\n",
    "    safety_settings = [types.SafetySetting(\n",
    "      category=\"HARM_CATEGORY_HATE_SPEECH\",\n",
    "      threshold=\"OFF\"\n",
    "    ),types.SafetySetting(\n",
    "      category=\"HARM_CATEGORY_DANGEROUS_CONTENT\",\n",
    "      threshold=\"OFF\"\n",
    "    ),types.SafetySetting(\n",
    "      category=\"HARM_CATEGORY_SEXUALLY_EXPLICIT\",\n",
    "      threshold=\"OFF\"\n",
    "    ),types.SafetySetting(\n",
    "      category=\"HARM_CATEGORY_HARASSMENT\",\n",
    "      threshold=\"OFF\"\n",
    "    )],\n",
    "    system_instruction=[types.Part.from_text(text=si_text1)],\n",
    "    thinking_config=types.ThinkingConfig(\n",
    "      thinking_budget=-1,\n",
    "    ),\n",
    "  )\n",
    "\n",
    "  response = client.models.generate_content(\n",
    "    model = model,\n",
    "    contents = contents,\n",
    "    config = generate_content_config,\n",
    "  )\n",
    "  print(response.text)\n",
    "\n",
    "generate()"
   ]
  },
  {
   "cell_type": "code",
   "execution_count": null,
   "metadata": {},
   "outputs": [],
   "source": []
  }
 ],
 "metadata": {
  "colab": {
   "name": "intro_genai_sdk.ipynb",
   "toc_visible": true
  },
  "environment": {
   "kernel": "conda-base-py",
   "name": "workbench-notebooks.m133",
   "type": "gcloud",
   "uri": "us-docker.pkg.dev/deeplearning-platform-release/gcr.io/workbench-notebooks:m133"
  },
  "kernelspec": {
   "display_name": "Python 3 (ipykernel) (Local)",
   "language": "python",
   "name": "conda-base-py"
  },
  "language_info": {
   "codemirror_mode": {
    "name": "ipython",
    "version": 3
   },
   "file_extension": ".py",
   "mimetype": "text/x-python",
   "name": "python",
   "nbconvert_exporter": "python",
   "pygments_lexer": "ipython3",
   "version": "3.10.18"
  }
 },
 "nbformat": 4,
 "nbformat_minor": 4
}
